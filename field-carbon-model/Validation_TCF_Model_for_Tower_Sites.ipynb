{
 "cells": [
  {
   "cell_type": "markdown",
   "id": "5c6eeab9",
   "metadata": {},
   "source": [
    "# Validation of AgStack Level 1 Model"
   ]
  },
  {
   "cell_type": "code",
   "execution_count": null,
   "id": "ff244a0e",
   "metadata": {},
   "outputs": [],
   "source": [
    "import datetime\n",
    "import glob\n",
    "import os\n",
    "import numpy as np\n",
    "import h5py\n",
    "import pandas as pd\n",
    "from matplotlib import pyplot\n",
    "from sklearn.metrics import mean_squared_error\n",
    "from agstack.models import TCF\n",
    "from agstack.drivers import drivers_for_tcf\n",
    "from agstack.io import drivers_from_csv, params_dict_from_json\n",
    "\n",
    "FLUXNET_HDF5 = '/anx_lagr3/arthur.endsley/SMAP_L4C/calibration/v8_Y2023/L4_C_v8_new_AmeriFlux-FLUXNET-ICOS_towers.h5'\n",
    "SITE_IDS = {\n",
    "    'US-Bi1': 8,\n",
    "    'US-Bi2': 7,\n",
    "    'US-CF1': 8, # Crop not specified but it looks like broadleaf\n",
    "    'US-CF2': 8, # Crop not specified, choosing higher LUE_max\n",
    "    'US-CF3': 8, # Crop not specified, choosing higher LUE_max\n",
    "    'US-CF4': 8, # Crop not specified, choosing higher LUE_max\n",
    "}\n",
    "FILE_TPL = '/home/arthur.endsley/Workspace/NTSG/projects/Y2023_Field-Scale_C_Flux/data/tower_data/{site_id}_*.csv'"
   ]
  },
  {
   "cell_type": "markdown",
   "id": "ab27b877",
   "metadata": {},
   "source": [
    "## Executive Summary\n",
    "\n",
    "- In a managed alfalfa field, both modeled and observed GPP, NEE show expected changes in response to repeated mowing.\n",
    "- GPP RMSE ranges from 3.0 to 4.9 [g C m-2 day-1], but these sites have high productivity. Normalized RMSE is 12-22%.\n",
    "- NEE RMSE ranges from 3.8 to 4.2 [g C m-2 day-1], which is pretty high, unfortunately. This is partly due to low modeled GPP magnitudes.\n",
    "- GPP and NEE time series correlations are relatively strong, with Pearson's $r\\in [0.43, 0.87]$.\n",
    "\n",
    "**GPP**\n",
    "\n",
    "- The model generally underestimates GPP, particularly at the alfalfa site where GPP shows high variability during the growing season.\n",
    "- Daily GPP at these sites is most strongly controlled by fPAR and vapor pressure deficit (VPD). VPD determines much of the diurnal variation in GPP.\n",
    "- Low fPAR variability is the chief reason for the model's poor prediction of GPP variability. While fPAR does predict the timing of swings in observed GPP, the changes in fPAR magnitude are too small."
   ]
  },
  {
   "cell_type": "markdown",
   "id": "43fbecc3",
   "metadata": {},
   "source": [
    "## Introduction"
   ]
  },
  {
   "cell_type": "markdown",
   "id": "19c59f85",
   "metadata": {},
   "source": [
    "[**US-Bi1 is an alfalfa crop**](https://fluxnet.org/sites/siteinfo/US-Bi1) surrounded by wetlands, with an SOC content of 4500 [g C m-2], based on SoilGrids. Alfalfa is considered a broadleaf crop (PFT 8).\n",
    "\n",
    "[**US-Bi2 is a nearby corn crop**](https://fluxnet.org/sites/siteinfo/US-Bi2), with an SOC content of 4635 [g C m-2], based on SoilGrids. Corn is considered a cereal crop (PFT 7).\n",
    "\n",
    "> \"corn is growing on an island in the Sacramento San Joaquin Delta. This site has deep peat that was drained for farming. Over the past 100 years there has been excessive subsidence of the peat in the delta\"\n",
    "\n",
    "- [Based on field notes,](https://nature.berkeley.edu/biometlab/bmetdata/fieldnotes.php?screen=list&LS=Bouldin+Corn&LA=0&LY=2020&LM=0&ST=&SD=&fnlimit=Submit) field was harvested sometime between October 5 and October 22, 2023.\n",
    "- Corn had tassels and cobbs by July 21, 2023.\n",
    "- On July 30, \"the bottom few leaves of the corn plants were senescent.\"\n",
    "- Field was likely irrigated between July 30 and August 5, which might explain the GPP pulse around July 31.\n",
    "- On August 11 \"the corn near the tower were all yellow, but the regular corn farther out in the field were light-green at the top.\"\n",
    "\n",
    "**We don't have field notes on the other 4 tower sites.**"
   ]
  },
  {
   "cell_type": "markdown",
   "id": "3ee026cf",
   "metadata": {},
   "source": [
    "## Data Preparation"
   ]
  },
  {
   "cell_type": "code",
   "execution_count": null,
   "id": "22893f7b",
   "metadata": {},
   "outputs": [],
   "source": [
    "datasets = []\n",
    "\n",
    "for site_id in SITE_IDS.keys():\n",
    "    filename = glob.glob(FILE_TPL.format(site_id = site_id)).pop()\n",
    "    # dates_list is taken to be the last dates list loaded (all the same)\n",
    "    data, dates_list = drivers_from_csv(filename)\n",
    "    # Get the dataset and the PFT to use when modeling\n",
    "    datasets.append((site_id, data, SITE_IDS[site_id]))\n",
    "    print(f'{site_id}: {dates_list[0]} - {dates_list[-1]}')"
   ]
  },
  {
   "cell_type": "markdown",
   "id": "ea27b6eb",
   "metadata": {},
   "source": [
    "### Loading Independent Modeled GPP"
   ]
  },
  {
   "cell_type": "markdown",
   "id": "9f7cf347",
   "metadata": {},
   "source": [
    "A stoichiometry model was also used to relate field-measured ET to GPP."
   ]
  },
  {
   "cell_type": "code",
   "execution_count": null,
   "id": "6ac65780",
   "metadata": {},
   "outputs": [],
   "source": [
    "alt_gpp = []\n",
    "\n",
    "for site_id in SITE_IDS.keys():\n",
    "    filename = glob.glob(FILE_TPL.format(site_id = site_id)).pop()\n",
    "    df = pd.read_csv(filename)\n",
    "    alt_gpp.append(df['gpp'].values)\n",
    "    \n",
    "len(alt_gpp)"
   ]
  },
  {
   "cell_type": "markdown",
   "id": "3b6ba0bd",
   "metadata": {},
   "source": [
    "## Model Spin-Up and Forward Run"
   ]
  },
  {
   "cell_type": "code",
   "execution_count": null,
   "id": "9de70a23",
   "metadata": {},
   "outputs": [],
   "source": [
    "all_models = []\n",
    "for site_id, data, pft in datasets:\n",
    "    # Load driver (meteorology)\n",
    "    drivers = drivers_for_tcf(data)\n",
    "\n",
    "    # Wild guess as to the initial soil carbon state\n",
    "    state = np.array([[300, 300, 4000]]).T\n",
    "\n",
    "    # Read in model parameters\n",
    "    params = params_dict_from_json('../agstack/data/SPL4CMDL_V7_BPLUT.json')\n",
    "\n",
    "    model = TCF(params, [pft], state)\n",
    "    tol = model.spin_up(dates_list, drivers)\n",
    "    all_models.append(model)"
   ]
  },
  {
   "cell_type": "code",
   "execution_count": null,
   "id": "320e4486",
   "metadata": {},
   "outputs": [],
   "source": [
    "for i, site_id in enumerate(SITE_IDS.keys()):\n",
    "    print(f'Steady-state SOC, {site_id}:', all_models[i].state.soc.sum())"
   ]
  },
  {
   "cell_type": "code",
   "execution_count": null,
   "id": "43c4e740",
   "metadata": {},
   "outputs": [],
   "source": [
    "results = np.nan * np.ones((len(all_models), 2, len(dates_list)))\n",
    "\n",
    "for m, model in enumerate(all_models):\n",
    "    # Load driver (meteorology)\n",
    "    drivers = drivers_for_tcf(datasets[m][1])\n",
    "    nee, gpp, _ = model.forward_run(drivers)\n",
    "    results[m][0] = nee\n",
    "    results[m][1] = gpp"
   ]
  },
  {
   "cell_type": "code",
   "execution_count": null,
   "id": "bd17e2d9",
   "metadata": {},
   "outputs": [],
   "source": [
    "# As an example, show the very last site modeled (leftover \"nee\" local variable)\n",
    "pyplot.figure(figsize = (10, 5))\n",
    "pyplot.plot(dates_list, nee[0])\n",
    "pyplot.ylabel('Net Carbon Balance (g C m-2 day-1)')\n",
    "pyplot.show()"
   ]
  },
  {
   "cell_type": "markdown",
   "id": "356cab42",
   "metadata": {},
   "source": [
    "---\n",
    "\n",
    "## Validation Against Tower Fluxes"
   ]
  },
  {
   "cell_type": "code",
   "execution_count": null,
   "id": "40baefa7",
   "metadata": {},
   "outputs": [],
   "source": [
    "site_list = [s.encode('utf-8') for s in SITE_IDS.keys()]\n",
    "\n",
    "with h5py.File(FLUXNET_HDF5, 'r') as hdf:\n",
    "    idx = np.argwhere(np.in1d(hdf['site_id'][:], site_list)).ravel()\n",
    "    nee_obs = hdf['NEE'][:,idx]\n",
    "    gpp_obs = hdf['GPP'][:,idx]\n",
    "    time = hdf['time'][:]"
   ]
  },
  {
   "cell_type": "code",
   "execution_count": null,
   "id": "423c28b9",
   "metadata": {},
   "outputs": [],
   "source": [
    "nee = results[:,0]\n",
    "gpp = results[:,1]\n",
    "\n",
    "t0 = np.argwhere(np.logical_and(time[:,0] == 2020, time[:,1] == 4)).min()\n",
    "t1 = np.argwhere(np.logical_and(time[:,0] == 2021, time[:,1] == 12)).max() + 1\n",
    "time[t0:t1]"
   ]
  },
  {
   "cell_type": "markdown",
   "id": "b81316f8",
   "metadata": {},
   "source": [
    "### Gross Primary Productivity (GPP)\n",
    "\n",
    "#### RMSE and Normalized RMSE"
   ]
  },
  {
   "cell_type": "code",
   "execution_count": null,
   "id": "19236203",
   "metadata": {},
   "outputs": [],
   "source": [
    "for i in range(0, len(all_models)):\n",
    "    mask = np.isnan(gpp_obs[t0:t1,i]) # Mask out NaNs in the observed data\n",
    "    rmse = mean_squared_error(gpp_obs[t0:t1,i][~mask], gpp[i][~mask], squared = False)\n",
    "    print(f'{datasets[i][0]}: %.2f [g C m-2 day-1]' % rmse)"
   ]
  },
  {
   "cell_type": "code",
   "execution_count": null,
   "id": "5730e11c",
   "metadata": {},
   "outputs": [],
   "source": [
    "for i in range(0, len(all_models)):\n",
    "    mask = np.isnan(gpp_obs[t0:t1,i]) # Mask out NaNs in the observed data\n",
    "    rmse = mean_squared_error(gpp_obs[t0:t1,i][~mask], gpp[i][~mask], squared = False)\n",
    "    nrmse = rmse / (np.nanmax(gpp_obs[t0:t1,i]) - np.nanmin(gpp_obs[t0:t1,i]))\n",
    "    print(f'{datasets[i][0]}: %.1f%%' % (100 * nrmse))"
   ]
  },
  {
   "cell_type": "markdown",
   "id": "1b76d7cf",
   "metadata": {},
   "source": [
    "#### Pearson's Correlation"
   ]
  },
  {
   "cell_type": "code",
   "execution_count": null,
   "id": "126fc332",
   "metadata": {},
   "outputs": [],
   "source": [
    "for i in range(0, len(all_models)):\n",
    "    mask = np.isnan(gpp_obs[t0:t1,i]) # Mask out NaNs in the observed data\n",
    "    corr = np.corrcoef(gpp_obs[t0:t1,i][~mask], gpp[i][~mask])[0,1]\n",
    "    print(f'{datasets[i][0]}: %.2f' % corr)"
   ]
  },
  {
   "cell_type": "code",
   "execution_count": null,
   "id": "dce73e27",
   "metadata": {},
   "outputs": [],
   "source": [
    "fig, _axs = pyplot.subplots(2, 3, figsize = (10, 8))\n",
    "axs = _axs.ravel()\n",
    "for i in range(0, len(all_models)):\n",
    "    axs[i].plot([0, 1], [0, 1], transform = axs[i].transAxes, linestyle = 'dashed', color = 'gray')\n",
    "    axs[i].plot(gpp_obs[t0:t1,i], gpp[i], 'k.')\n",
    "    axs[i].set_title(f'GPP at {datasets[i][0]}')\n",
    "    axs[i].set_aspect(1)\n",
    "    axs[i].set_xlim(0, 20)\n",
    "    axs[i].set_ylim(0, 20)\n",
    "    axs[i].set_xlabel('Observed GPP (g C m-2 day-1)')\n",
    "\n",
    "axs[0].set_ylabel('TCF Predicted GPP (g C m-2 day-1)')\n",
    "pyplot.show()"
   ]
  },
  {
   "cell_type": "markdown",
   "id": "abd30f98",
   "metadata": {},
   "source": [
    "### Net Ecosystem Exchange (NEE)\n",
    "\n",
    "#### RMSE"
   ]
  },
  {
   "cell_type": "code",
   "execution_count": null,
   "id": "30892015",
   "metadata": {},
   "outputs": [],
   "source": [
    "for i in range(0, len(all_models)):\n",
    "    mask = np.isnan(nee_obs[t0:t1,i]) # Mask out NaNs in the observed data\n",
    "    rmse = mean_squared_error(nee_obs[t0:t1,i][~mask], nee[i][~mask], squared = False)\n",
    "    print(f'{datasets[i][0]}: %.2f [g C m-2 day-1]' % rmse)"
   ]
  },
  {
   "cell_type": "markdown",
   "id": "09d5e235",
   "metadata": {},
   "source": [
    "#### Pearson's Correlation"
   ]
  },
  {
   "cell_type": "code",
   "execution_count": null,
   "id": "0fc1c562",
   "metadata": {},
   "outputs": [],
   "source": [
    "for i in range(0, len(all_models)):\n",
    "    mask = np.isnan(nee_obs[t0:t1,i]) # Mask out NaNs in the observed data\n",
    "    corr = np.corrcoef(nee_obs[t0:t1,i][~mask], nee[i][~mask])[0,1]\n",
    "    print(f'{datasets[i][0]}: %.2f' % corr)"
   ]
  },
  {
   "cell_type": "markdown",
   "id": "631e626f",
   "metadata": {},
   "source": [
    "#### Scatterplot"
   ]
  },
  {
   "cell_type": "code",
   "execution_count": null,
   "id": "50903e01",
   "metadata": {},
   "outputs": [],
   "source": [
    "fig, _axs = pyplot.subplots(2, 3, figsize = (10, 8))\n",
    "axs = _axs.ravel()\n",
    "for i in range(0, len(all_models)):\n",
    "    axs[i].plot([0, 1], [0, 1], transform = axs[i].transAxes, linestyle = 'dashed', color = 'gray')\n",
    "    axs[i].plot(nee_obs[t0:t1,i], nee[i], 'k.')\n",
    "    axs[i].set_title(f'NEE at {datasets[i][0]}')\n",
    "    axs[i].set_aspect(1)\n",
    "    axs[i].set_xlim(-10, 10)\n",
    "    axs[i].set_ylim(-10, 10)\n",
    "    axs[i].set_xlabel('Observed NEE (g C m-2 day-1)')\n",
    "\n",
    "axs[0].set_ylabel('TCF Predicted NEE (g C m-2 day-1)')\n",
    "pyplot.show()"
   ]
  },
  {
   "cell_type": "markdown",
   "id": "171e29a9",
   "metadata": {},
   "source": [
    "---\n",
    "\n",
    "## Detailed Comparison"
   ]
  },
  {
   "cell_type": "code",
   "execution_count": null,
   "id": "0cda8211",
   "metadata": {},
   "outputs": [],
   "source": [
    "ec_tmin  = np.nan * np.ones((len(all_models), len(dates_list)))\n",
    "ec_vpd   = ec_tmin.copy()\n",
    "ec_smrz  = ec_tmin.copy()\n",
    "ec_smsf  = ec_tmin.copy()\n",
    "ec_tsoil = ec_tmin.copy()\n",
    "fpar     = ec_tmin.copy()\n",
    "\n",
    "for m, model in enumerate(all_models):\n",
    "    # Load driver (meteorology)\n",
    "    drivers = drivers_for_tcf(datasets[m][1])\n",
    "    ft, f_tmin, f_vpd, f_smrz = model.diagnose_emult(drivers[0:6])\n",
    "    f_tsoil, f_smsf = model.diagnose_kmult(drivers)\n",
    "    fpar[m] = drivers[0]\n",
    "    ec_tmin[m] = f_tmin\n",
    "    ec_vpd[m]  = f_vpd\n",
    "    ec_smrz[m] = f_smrz\n",
    "    ec_tsoil[m]  = f_tsoil\n",
    "    ec_smsf[m] = f_smsf"
   ]
  },
  {
   "cell_type": "markdown",
   "id": "555cf03e",
   "metadata": {},
   "source": [
    "### GPP Time Series"
   ]
  },
  {
   "cell_type": "code",
   "execution_count": null,
   "id": "9c1aeb0c",
   "metadata": {},
   "outputs": [],
   "source": [
    "fig, _axs = pyplot.subplots(6, 1, figsize = (12, 24))\n",
    "axs = _axs.ravel()\n",
    "for i in range(0, len(all_models)):\n",
    "    axs[i].plot(dates_list, gpp_obs[t0:t1,i], 'g-', label = 'Observed')\n",
    "    axs[i].plot(dates_list, gpp[i], 'b-', label = 'Predicted (TCF Model)')\n",
    "    axs[i].set_ylabel('GPP (g C m-2 day-1)')\n",
    "    axs[i].set_title(f'GPP at {datasets[i][0]}')\n",
    "\n",
    "axs[0].axvline(datetime.date(2020, 2, 6), label = 'Sheep End Grazing', color = 'lightblue', linestyle = 'dotted')\n",
    "axs[0].axvline(datetime.date(2020, 4, 27), color = 'darkgreen', linestyle = 'dotted')\n",
    "axs[0].axvline(datetime.date(2020, 6, 4), label = 'Mowing (Approximate)', color = 'darkgreen', linestyle = 'dotted')\n",
    "axs[0].axvline(datetime.date(2020, 7, 8), color = 'darkgreen', linestyle = 'dotted')\n",
    "axs[0].axvline(datetime.date(2020, 8, 11), color = 'darkgreen', linestyle = 'dotted')\n",
    "axs[0].axvline(datetime.date(2020, 9, 10), color = 'darkgreen', linestyle = 'dotted')\n",
    "axs[0].axvline(datetime.date(2020, 10, 5), color = 'darkgreen', linestyle = 'dotted')\n",
    "axs[0].axvline(datetime.date(2020, 8, 26), label = 'Heat Stress', color = 'brown', linestyle = 'dotted')\n",
    "axs[0].legend()\n",
    "    \n",
    "axs[1].axvline(datetime.date(2020, 7, 21), label = 'Corn Tasseling', color = 'yellow', linestyle = 'dotted')\n",
    "axs[1].axvline(datetime.date(2020, 7, 30), label = 'Partial Senescence', color = 'lightblue', linestyle = 'dotted')\n",
    "axs[1].axvline(datetime.date(2020, 8, 11), label = 'Senescence', color = 'gray', linestyle = 'dotted')\n",
    "axs[1].axvline(datetime.date(2020, 8, 21), label = 'Low Sunlight (Smoke)', color = 'darkred', linestyle = 'dotted')    \n",
    "axs[1].legend()\n",
    "\n",
    "pyplot.show()"
   ]
  },
  {
   "cell_type": "code",
   "execution_count": null,
   "id": "e373b9e6",
   "metadata": {},
   "outputs": [],
   "source": [
    "fig, _axs = pyplot.subplots(6, 1, figsize = (12, 24))\n",
    "axs = _axs.ravel()\n",
    "for i in range(0, len(all_models)):\n",
    "    axs[i].plot(dates_list, (ec_vpd * gpp.max(axis = 1)[:,np.newaxis])[i], 'k-', label = 'f(VPD) (Rescaled)')\n",
    "    axs[i].plot(dates_list, gpp_obs[t0:t1,i], 'g-', alpha = 0.5, label = 'Observed')\n",
    "    axs[i].plot(dates_list, gpp[i], 'b-', alpha = 0.5, label = 'Predicted (TCF Model)')\n",
    "    axs[i].set_ylabel('GPP (g C m-2 day-1)')\n",
    "    axs[i].set_title(f'GPP and f(VPD) at {datasets[i][0]}')\n",
    "    \n",
    "axs[0].axvline(datetime.date(2020, 8, 26), label = 'Heat Stress', color = 'brown', linestyle = 'dotted')\n",
    "axs[0].legend()\n",
    "\n",
    "pyplot.legend()\n",
    "pyplot.show()"
   ]
  },
  {
   "cell_type": "code",
   "execution_count": null,
   "id": "97e9b7a2",
   "metadata": {},
   "outputs": [],
   "source": [
    "fig, _axs = pyplot.subplots(6, 1, figsize = (12, 24))\n",
    "axs = _axs.ravel()\n",
    "for i in range(0, len(all_models)):\n",
    "    axs[i].plot(dates_list, (ec_smrz * gpp.max(axis = 1)[:,np.newaxis])[i], 'k-', label = 'f(SMRZ) (Rescaled)')\n",
    "    axs[i].plot(dates_list, gpp_obs[t0:t1,i], 'g-', alpha = 0.5, label = 'Observed')\n",
    "    axs[i].plot(dates_list, gpp[i], 'b-', alpha = 0.5, label = 'Predicted (TCF Model)')\n",
    "    axs[i].set_ylabel('GPP (g C m-2 day-1)')\n",
    "    axs[i].set_title(f'GPP and f(SMRZ) at {datasets[i][0]}')\n",
    "    \n",
    "axs[0].axvline(datetime.date(2020, 8, 26), label = 'Heat Stress', color = 'brown', linestyle = 'dotted')\n",
    "axs[0].legend()\n",
    "\n",
    "pyplot.legend()\n",
    "pyplot.show()"
   ]
  },
  {
   "cell_type": "code",
   "execution_count": null,
   "id": "894abd0a",
   "metadata": {},
   "outputs": [],
   "source": [
    "fig, _axs = pyplot.subplots(6, 1, figsize = (12, 24))\n",
    "axs = _axs.ravel()\n",
    "for i in range(0, len(all_models)):\n",
    "    axs[i].plot(dates_list, (fpar * gpp.max(axis = 1)[:,np.newaxis])[i], 'k-', label = 'fPAR (Rescaled)')\n",
    "    axs[i].plot(dates_list, gpp_obs[t0:t1,i], 'g-', alpha = 0.5, label = 'Observed')\n",
    "    axs[i].plot(dates_list, gpp[i], 'b-', alpha = 0.5, label = 'Predicted (TCF Model)')\n",
    "    axs[i].set_ylabel('GPP (g C m-2 day-1)')\n",
    "    axs[i].set_title(f'GPP and fPAR at {datasets[i][0]}')\n",
    "\n",
    "pyplot.legend()\n",
    "pyplot.show()"
   ]
  },
  {
   "cell_type": "markdown",
   "id": "8fa553b5",
   "metadata": {},
   "source": [
    "### NEE Time Series"
   ]
  },
  {
   "cell_type": "code",
   "execution_count": null,
   "id": "1677bd54",
   "metadata": {},
   "outputs": [],
   "source": [
    "fig, _axs = pyplot.subplots(6, 1, figsize = (12, 24))\n",
    "axs = _axs.ravel()\n",
    "for i in range(0, len(all_models)):\n",
    "    axs[i].plot(dates_list, nee_obs[t0:t1,i], 'g-', label = 'Observed')\n",
    "    axs[i].plot(dates_list, nee[i], 'b-', label = 'Predicted (TCF Model)')\n",
    "    axs[i].set_ylabel('NEE (g C m-2 day-1)')\n",
    "    axs[i].set_title(f'NEE and f(Tsoil) at {datasets[i][0]}')\n",
    "    \n",
    "axs[0].axvline(datetime.date(2020, 2, 6), label = 'Sheep End Grazing', color = 'lightblue', linestyle = 'dotted')\n",
    "axs[0].axvline(datetime.date(2020, 4, 27), color = 'darkgreen', linestyle = 'dotted')\n",
    "axs[0].axvline(datetime.date(2020, 6, 4), label = 'Mowing (Approximate)', color = 'darkgreen', linestyle = 'dotted')\n",
    "axs[0].axvline(datetime.date(2020, 7, 8), color = 'darkgreen', linestyle = 'dotted')\n",
    "axs[0].axvline(datetime.date(2020, 8, 11), color = 'darkgreen', linestyle = 'dotted')\n",
    "axs[0].axvline(datetime.date(2020, 9, 10), color = 'darkgreen', linestyle = 'dotted')\n",
    "axs[0].axvline(datetime.date(2020, 10, 5), color = 'darkgreen', linestyle = 'dotted')\n",
    "axs[0].legend()\n",
    "\n",
    "axs[1].legend()\n",
    "    \n",
    "pyplot.show()"
   ]
  },
  {
   "cell_type": "markdown",
   "id": "4c0a912c",
   "metadata": {},
   "source": [
    "---\n",
    "\n",
    "## Comparison Against Stoichiometric Model"
   ]
  },
  {
   "cell_type": "code",
   "execution_count": null,
   "id": "1e673bdc",
   "metadata": {},
   "outputs": [],
   "source": [
    "fig, _axs = pyplot.subplots(2, 3, figsize = (10, 8))\n",
    "axs = _axs.ravel()\n",
    "for i, site_id in enumerate(SITE_IDS.keys()):\n",
    "    axs[i].plot([0, 1], [0, 1], transform = axs[i].transAxes, linestyle = 'dashed', color = 'gray')\n",
    "    axs[i].plot(gpp_obs[t0:t1,i], alt_gpp[i], 'k.')\n",
    "    axs[i].set_title(f'NEE at {site_id}')\n",
    "    axs[i].set_aspect(1)\n",
    "    axs[i].set_xlim(0, 30)\n",
    "    axs[i].set_ylim(0, 30)\n",
    "    axs[i].set_xlabel('Observed GPP (g C m-2 day-1)')\n",
    "\n",
    "axs[0].set_ylabel('Predicted GPP (g C m-2 day-1)')\n",
    "pyplot.show()"
   ]
  },
  {
   "cell_type": "markdown",
   "id": "c55926ac",
   "metadata": {},
   "source": [
    "### Validation Statistics\n",
    "\n",
    "#### RMSE and Normalized RMSE"
   ]
  },
  {
   "cell_type": "code",
   "execution_count": null,
   "id": "5ffd6a4e",
   "metadata": {},
   "outputs": [],
   "source": [
    "for i in range(0, len(all_models)):\n",
    "    mask = np.isnan(gpp_obs[t0:t1,i]) # Mask out NaNs in the observed data\n",
    "    rmse = mean_squared_error(gpp_obs[t0:t1,i][~mask], alt_gpp[i][~mask], squared = False)\n",
    "    print(f'{datasets[i][0]}: %.2f [g C m-2 day-1]' % rmse)"
   ]
  },
  {
   "cell_type": "code",
   "execution_count": null,
   "id": "96c3007d",
   "metadata": {},
   "outputs": [],
   "source": [
    "for i in range(0, len(all_models)):\n",
    "    mask = np.isnan(gpp_obs[t0:t1,i]) # Mask out NaNs in the observed data\n",
    "    rmse = mean_squared_error(gpp_obs[t0:t1,i][~mask], alt_gpp[i][~mask], squared = False)\n",
    "    nrmse = rmse / (np.nanmax(gpp_obs[t0:t1,i]) - np.nanmin(gpp_obs[t0:t1,i]))\n",
    "    print(f'{datasets[i][0]}: %.1f%%' % (100 * nrmse))"
   ]
  },
  {
   "cell_type": "markdown",
   "id": "9d791269",
   "metadata": {},
   "source": [
    "#### Pearson's Correlation"
   ]
  },
  {
   "cell_type": "code",
   "execution_count": null,
   "id": "35fb5d59",
   "metadata": {},
   "outputs": [],
   "source": [
    "for i in range(0, len(all_models)):\n",
    "    mask = np.isnan(gpp_obs[t0:t1,i]) # Mask out NaNs in the observed data\n",
    "    corr = np.corrcoef(gpp_obs[t0:t1,i][~mask], alt_gpp[i][~mask])[0,1]\n",
    "    print(f'{datasets[i][0]}: %.2f' % corr)"
   ]
  }
 ],
 "metadata": {
  "kernelspec": {
   "display_name": "Python 3 (ipykernel)",
   "language": "python",
   "name": "python3"
  },
  "language_info": {
   "codemirror_mode": {
    "name": "ipython",
    "version": 3
   },
   "file_extension": ".py",
   "mimetype": "text/x-python",
   "name": "python",
   "nbconvert_exporter": "python",
   "pygments_lexer": "ipython3",
   "version": "3.8.10"
  }
 },
 "nbformat": 4,
 "nbformat_minor": 5
}
